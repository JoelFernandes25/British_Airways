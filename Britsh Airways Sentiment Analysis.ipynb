{
 "cells": [
  {
   "cell_type": "code",
   "execution_count": null,
   "id": "681b0b78",
   "metadata": {},
   "outputs": [],
   "source": [
    "import requests\n",
    "from bs4 import BeautifulSoup\n",
    "import pandas as pd\n",
    "import numpy as np\n",
    "import nltk\n",
    "from nltk.sentiment import SentimentIntensityAnalyzer\n",
    "import seaborn as sns"
   ]
  },
  {
   "cell_type": "code",
   "execution_count": null,
   "id": "f2f7cd1e",
   "metadata": {},
   "outputs": [],
   "source": [
    "base_url = \"https://www.airlinequality.com/airline-reviews/british-airways\"\n",
    "pages = 10\n",
    "page_size = 100\n",
    "\n",
    "reviews = []\n",
    "\n",
    "# for i in range(1, pages + 1):\n",
    "for i in range(1, pages + 1):\n",
    "\n",
    "    print(f\"Scraping page {i}\")\n",
    "\n",
    "    # Create URL to collect links from paginated data\n",
    "    url = f\"{base_url}/page/{i}/?sortby=post_date%3ADesc&pagesize={page_size}\"\n",
    "\n",
    "    # Collect HTML data from this page\n",
    "    response = requests.get(url)\n",
    "\n",
    "    # Parse content\n",
    "    content = response.content\n",
    "    parsed_content = BeautifulSoup(content, 'html.parser')\n",
    "    for para in parsed_content.find_all(\"div\", {\"class\": \"text_content\"}):\n",
    "        reviews.append(para.get_text())\n",
    "    \n",
    "    print(f\"   ---> {len(reviews)} total reviews\")"
   ]
  },
  {
   "cell_type": "code",
   "execution_count": null,
   "id": "8fd96611",
   "metadata": {},
   "outputs": [],
   "source": [
    "df = pd.DataFrame()\n",
    "df[\"reviews\"] = reviews\n",
    "df.head()"
   ]
  },
  {
   "cell_type": "code",
   "execution_count": null,
   "id": "dab9e7bb",
   "metadata": {},
   "outputs": [],
   "source": [
    "df.to_csv(\"BA_reviews.csv\")"
   ]
  },
  {
   "cell_type": "code",
   "execution_count": null,
   "id": "e051fc18",
   "metadata": {},
   "outputs": [],
   "source": [
    "df = pd.read_csv('BA_reviews.csv')"
   ]
  },
  {
   "cell_type": "code",
   "execution_count": null,
   "id": "abb4ace1",
   "metadata": {},
   "outputs": [],
   "source": [
    "df.columns"
   ]
  },
  {
   "cell_type": "code",
   "execution_count": null,
   "id": "5c66b748",
   "metadata": {},
   "outputs": [],
   "source": [
    "df.rename(columns={'Unnamed: 0': 'ID'}, inplace=True)"
   ]
  },
  {
   "cell_type": "code",
   "execution_count": null,
   "id": "c6c44f6d",
   "metadata": {},
   "outputs": [],
   "source": [
    "df"
   ]
  },
  {
   "cell_type": "code",
   "execution_count": null,
   "id": "72e206cc",
   "metadata": {},
   "outputs": [],
   "source": [
    "df['reviews'] = df['reviews'].str.replace('Trip Verified', '')\n"
   ]
  },
  {
   "cell_type": "code",
   "execution_count": null,
   "id": "bcf1ccb8",
   "metadata": {},
   "outputs": [],
   "source": [
    "df['reviews'] = df['reviews'].str.replace('Not Verified', '')\n"
   ]
  },
  {
   "cell_type": "code",
   "execution_count": null,
   "id": "408ac8c4",
   "metadata": {},
   "outputs": [],
   "source": [
    "df['reviews'] = df['reviews'].str.replace('✅', '')\n"
   ]
  },
  {
   "cell_type": "code",
   "execution_count": null,
   "id": "c00cea5c",
   "metadata": {},
   "outputs": [],
   "source": [
    "df['reviews'] = df['reviews'].str.replace('|', '')\n"
   ]
  },
  {
   "cell_type": "code",
   "execution_count": null,
   "id": "4d358b05",
   "metadata": {},
   "outputs": [],
   "source": [
    "df['ID'] = range(1, len(df) + 1)"
   ]
  },
  {
   "cell_type": "code",
   "execution_count": null,
   "id": "d585cec5",
   "metadata": {},
   "outputs": [],
   "source": [
    "from textblob import TextBlob\n",
    "\n",
    "# Function to get sentiment polarity\n",
    "def get_sentiment(text):\n",
    "    blob = TextBlob(text)\n",
    "    return blob.sentiment.polarity\n",
    "\n",
    "# Apply sentiment analysis to the 'reviews' column\n",
    "df['sentiment'] = df['reviews'].apply(get_sentiment)"
   ]
  },
  {
   "cell_type": "code",
   "execution_count": null,
   "id": "8f082859",
   "metadata": {},
   "outputs": [],
   "source": [
    "df"
   ]
  },
  {
   "cell_type": "code",
   "execution_count": null,
   "id": "4e394999",
   "metadata": {},
   "outputs": [],
   "source": [
    "index = np.random.randint(1,999)\n",
    "check = df['reviews'][index]\n",
    "print(check)\n",
    "\n",
    "print(\"\\n The index is {}\".format(index))"
   ]
  },
  {
   "cell_type": "code",
   "execution_count": null,
   "id": "b0f7da26",
   "metadata": {},
   "outputs": [],
   "source": [
    "token = nltk.word_tokenize(check)\n",
    "token"
   ]
  },
  {
   "cell_type": "code",
   "execution_count": null,
   "id": "6e9f44fe",
   "metadata": {},
   "outputs": [],
   "source": [
    "token[:10]"
   ]
  },
  {
   "cell_type": "code",
   "execution_count": null,
   "id": "55121dc4",
   "metadata": {},
   "outputs": [],
   "source": [
    "tagged = nltk.pos_tag(token)"
   ]
  },
  {
   "cell_type": "code",
   "execution_count": null,
   "id": "6d04971d",
   "metadata": {},
   "outputs": [],
   "source": [
    "tagged"
   ]
  },
  {
   "cell_type": "code",
   "execution_count": null,
   "id": "8dab55ba",
   "metadata": {},
   "outputs": [],
   "source": [
    "nltk.chunk.ne_chunk(tagged)"
   ]
  },
  {
   "cell_type": "code",
   "execution_count": null,
   "id": "d6e19154",
   "metadata": {},
   "outputs": [],
   "source": [
    "entities = nltk.chunk.ne_chunk(tagged)\n",
    "entities.pprint()"
   ]
  },
  {
   "cell_type": "code",
   "execution_count": null,
   "id": "714add81",
   "metadata": {},
   "outputs": [],
   "source": [
    "sia = SentimentIntensityAnalyzer()\n",
    "sia"
   ]
  },
  {
   "cell_type": "code",
   "execution_count": null,
   "id": "1ff45b37",
   "metadata": {},
   "outputs": [],
   "source": [
    "sia.polarity_scores('I am so happy')"
   ]
  },
  {
   "cell_type": "code",
   "execution_count": null,
   "id": "bfb3d279",
   "metadata": {},
   "outputs": [],
   "source": [
    "index = np.random.randint(1,999)\n",
    "checkk = df['reviews'][index]\n",
    "print(checkk)\n",
    "sia.polarity_scores(checkk)"
   ]
  },
  {
   "cell_type": "code",
   "execution_count": null,
   "id": "b42e0845",
   "metadata": {},
   "outputs": [],
   "source": [
    "res = {}\n",
    "for i, row in df.iterrows():\n",
    "    text = row['reviews']\n",
    "    myid = row['ID']\n",
    "    if isinstance(text, str):  # Check if the value is a string\n",
    "        res[myid] = sia.polarity_scores(text)\n",
    "    else:\n",
    "        res[myid] = {'compound': 0, 'pos': 0, 'neu': 0, 'neg': 0}"
   ]
  },
  {
   "cell_type": "code",
   "execution_count": null,
   "id": "8fd3aaa8",
   "metadata": {},
   "outputs": [],
   "source": [
    "vaders = pd.DataFrame(res).T"
   ]
  },
  {
   "cell_type": "code",
   "execution_count": null,
   "id": "df266e7d",
   "metadata": {},
   "outputs": [],
   "source": [
    "vaders = vaders.loc[:, ~vaders.columns.duplicated()]\n",
    "vaders"
   ]
  },
  {
   "cell_type": "code",
   "execution_count": null,
   "id": "b84f6cdf",
   "metadata": {},
   "outputs": [],
   "source": [
    "vaders = vaders.merge(df, how='left')\n",
    "\n",
    "# Print the merged DataFrame\n",
    "print(vaders)"
   ]
  },
  {
   "cell_type": "code",
   "execution_count": null,
   "id": "8438cce2",
   "metadata": {},
   "outputs": [],
   "source": [
    "vaders"
   ]
  },
  {
   "cell_type": "code",
   "execution_count": null,
   "id": "262b5973",
   "metadata": {},
   "outputs": [],
   "source": [
    "import matplotlib.pyplot as plt\n",
    "\n",
    "# Count the number of positive, neutral, and negative sentiments\n",
    "sentiment_counts = vaders['sentiment'].value_counts()\n",
    "\n",
    "# Plot the sentiment distribution\n",
    "plt.figure(figsize=(8, 6))\n",
    "plt.bar(sentiment_counts.index, sentiment_counts.values)\n",
    "plt.xlabel('Sentiment')\n",
    "plt.ylabel('Count')\n",
    "plt.title('Sentiment Distribution')\n",
    "plt.show()\n"
   ]
  },
  {
   "cell_type": "code",
   "execution_count": null,
   "id": "f665f928",
   "metadata": {},
   "outputs": [],
   "source": [
    "import matplotlib.pyplot as plt\n",
    "\n",
    "# Plot a histogram of sentiment scores\n",
    "plt.figure(figsize=(8, 6))\n",
    "plt.hist(vaders['compound'], bins=10, edgecolor='black')\n",
    "plt.xlabel('Sentiment Score')\n",
    "plt.ylabel('Frequency')\n",
    "plt.title('Sentiment Score Distribution')\n",
    "plt.show()"
   ]
  },
  {
   "cell_type": "code",
   "execution_count": null,
   "id": "7e0e5ae3",
   "metadata": {},
   "outputs": [],
   "source": [
    "from wordcloud import WordCloud\n",
    "import matplotlib.pyplot as plt\n",
    "\n",
    "# Create a word cloud of most frequent words in reviews\n",
    "text = ' '.join(vaders['reviews'].dropna().tolist())\n",
    "wordcloud = WordCloud(width=800, height=400, background_color='white').generate(text)\n",
    "\n",
    "# Display the word cloud\n",
    "plt.figure(figsize=(10, 6))\n",
    "plt.imshow(wordcloud, interpolation='bilinear')\n",
    "plt.axis('off')\n",
    "plt.title('Most Frequent Words in Reviews')\n",
    "plt.show()\n"
   ]
  },
  {
   "cell_type": "code",
   "execution_count": null,
   "id": "46bcfdf6",
   "metadata": {},
   "outputs": [],
   "source": [
    "import matplotlib.pyplot as plt\n",
    "\n",
    "# Create a scatter plot to show the relationship between positive and negative sentiment scores\n",
    "plt.figure(figsize=(8, 6))\n",
    "plt.scatter(vaders['pos'], vaders['neg'], alpha=0.5)\n",
    "plt.xlabel('Positive Sentiment Score')\n",
    "plt.ylabel('Negative Sentiment Score')\n",
    "plt.title('Positive vs Negative Sentiment Scores')\n",
    "plt.show()\n",
    "\n"
   ]
  },
  {
   "cell_type": "code",
   "execution_count": null,
   "id": "365e5404",
   "metadata": {},
   "outputs": [],
   "source": [
    "import matplotlib.pyplot as plt\n",
    "\n",
    "# Create a box plot to visualize the distribution of sentiment scores\n",
    "plt.figure(figsize=(8, 6))\n",
    "plt.boxplot(vaders['compound'])\n",
    "plt.ylabel('Sentiment Score')\n",
    "plt.title('Distribution of Sentiment Scores')\n",
    "plt.show()\n"
   ]
  },
  {
   "cell_type": "code",
   "execution_count": null,
   "id": "d8c74109",
   "metadata": {},
   "outputs": [],
   "source": [
    "import seaborn as sns\n",
    "import matplotlib.pyplot as plt\n",
    "\n",
    "# Create a distribution plot to visualize the sentiment scores\n",
    "plt.figure(figsize=(8, 6))\n",
    "sns.kdeplot(vaders['compound'], shade=True)\n",
    "plt.xlabel('Sentiment Score')\n",
    "plt.ylabel('Density')\n",
    "plt.title('Distribution of Sentiment Scores')\n",
    "plt.show()\n"
   ]
  },
  {
   "cell_type": "code",
   "execution_count": null,
   "id": "ed72d79a",
   "metadata": {},
   "outputs": [],
   "source": [
    "import seaborn as sns\n",
    "import matplotlib.pyplot as plt\n",
    "\n",
    "# Calculate the correlation matrix\n",
    "correlation = vaders[['neg', 'neu', 'pos', 'compound']].corr()\n",
    "\n",
    "# Create a heatmap to visualize the correlation matrix\n",
    "plt.figure(figsize=(8, 6))\n",
    "sns.heatmap(correlation, annot=True, cmap='coolwarm')\n",
    "plt.title('Correlation Matrix of Sentiment Scores')\n",
    "plt.show()\n"
   ]
  },
  {
   "cell_type": "code",
   "execution_count": null,
   "id": "bf12b38d",
   "metadata": {
    "scrolled": true
   },
   "outputs": [],
   "source": [
    "import matplotlib.pyplot as plt\n",
    "\n",
    "# Create a scatter plot to visualize the relationship between sentiment and compound score\n",
    "plt.figure(figsize=(8, 6))\n",
    "plt.scatter(vaders['sentiment'], vaders['compound'], alpha=0.5)\n",
    "plt.xlabel('Sentiment')\n",
    "plt.ylabel('Compound Score')\n",
    "plt.title('Sentiment vs. Compound Score')\n",
    "plt.show()\n"
   ]
  }
 ],
 "metadata": {
  "kernelspec": {
   "display_name": "Python 3 (ipykernel)",
   "language": "python",
   "name": "python3"
  },
  "language_info": {
   "codemirror_mode": {
    "name": "ipython",
    "version": 3
   },
   "file_extension": ".py",
   "mimetype": "text/x-python",
   "name": "python",
   "nbconvert_exporter": "python",
   "pygments_lexer": "ipython3",
   "version": "3.10.9"
  }
 },
 "nbformat": 4,
 "nbformat_minor": 5
}
